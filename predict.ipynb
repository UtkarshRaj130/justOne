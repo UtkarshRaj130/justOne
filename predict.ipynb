{
 "cells": [
  {
   "cell_type": "markdown",
   "metadata": {},
   "source": [
    "IMPORTING ALL THE REQUIRED MODULES"
   ]
  },
  {
   "cell_type": "code",
   "execution_count": 2,
   "metadata": {},
   "outputs": [],
   "source": [
    "import pandas as pd\n",
    "import numpy as np\n",
    "from tensorflow.keras.models import load_model"
   ]
  },
  {
   "cell_type": "markdown",
   "metadata": {},
   "source": [
    "PREPROCESSING THE DATA"
   ]
  },
  {
   "cell_type": "code",
   "execution_count": 4,
   "metadata": {},
   "outputs": [
    {
     "name": "stderr",
     "output_type": "stream",
     "text": [
      "C:\\Users\\utkar\\AppData\\Local\\Temp\\ipykernel_10280\\2566532081.py:9: FutureWarning: DataFrame.fillna with 'method' is deprecated and will raise in a future version. Use obj.ffill() or obj.bfill() instead.\n",
      "  new_data.fillna(method='ffill', inplace=True)\n"
     ]
    }
   ],
   "source": [
    "# Load the saved model\n",
    "model = load_model('sea_surface_temp_model.keras')\n",
    "\n",
    "# Load the new data\n",
    "file_path = 'evaluation.csv'  # Replace with the correct path to your data_1997_1998.csv file\n",
    "new_data = pd.read_csv(file_path)\n",
    "\n",
    "# Forward fill missing values\n",
    "new_data.fillna(method='ffill', inplace=True)\n",
    "\n",
    "# Define features (ensure they match the training features)\n",
    "features = new_data[['year', 'month', 'day', 'latitude', 'longitude', 'zon.winds', 'mer.winds', 'humidity', 'air temp.']]\n",
    "\n",
    "# Reshape input to be [samples, time steps, features]\n",
    "features_reshaped = np.reshape(features.values, (features.shape[0], 1, features.shape[1]))"
   ]
  },
  {
   "cell_type": "markdown",
   "metadata": {},
   "source": []
  },
  {
   "cell_type": "code",
   "execution_count": 5,
   "metadata": {},
   "outputs": [
    {
     "name": "stdout",
     "output_type": "stream",
     "text": [
      "\u001b[1m816/816\u001b[0m \u001b[32m━━━━━━━━━━━━━━━━━━━━\u001b[0m\u001b[37m\u001b[0m \u001b[1m2s\u001b[0m 2ms/step\n"
     ]
    }
   ],
   "source": [
    "# Predict using the loaded model\n",
    "predictions = model.predict(features_reshaped)\n",
    "\n",
    "# Add the predictions to the new_data DataFrame\n",
    "new_data['predicted_s.s.temp.'] = predictions"
   ]
  },
  {
   "cell_type": "markdown",
   "metadata": {},
   "source": []
  },
  {
   "cell_type": "code",
   "execution_count": 7,
   "metadata": {},
   "outputs": [
    {
     "name": "stdout",
     "output_type": "stream",
     "text": [
      "Predictions saved to evaluation_predicted_sst.csv\n"
     ]
    }
   ],
   "source": [
    "# Save the predictions to a new CSV file\n",
    "output_file_path = 'evaluation_predicted_sst.csv'\n",
    "new_data.to_csv(output_file_path, index=False)\n",
    "\n",
    "print(f\"Predictions saved to {output_file_path}\")"
   ]
  }
 ],
 "metadata": {
  "kernelspec": {
   "display_name": "totw",
   "language": "python",
   "name": "python3"
  },
  "language_info": {
   "codemirror_mode": {
    "name": "ipython",
    "version": 3
   },
   "file_extension": ".py",
   "mimetype": "text/x-python",
   "name": "python",
   "nbconvert_exporter": "python",
   "pygments_lexer": "ipython3",
   "version": "3.12.3"
  }
 },
 "nbformat": 4,
 "nbformat_minor": 2
}
